{
 "cells": [
  {
   "cell_type": "markdown",
   "id": "29590406",
   "metadata": {},
   "source": [
    "### Importation des librairies"
   ]
  },
  {
   "cell_type": "code",
   "execution_count": 168,
   "id": "8da712f8",
   "metadata": {},
   "outputs": [],
   "source": [
    "import mlflow\n",
    "import mlflow.sklearn\n",
    "import pickle\n",
    "import pandas as pd\n",
    "from mlflow.models.signature import infer_signature\n",
    "from sklearn.datasets import load_iris\n",
    "from sklearn import tree\n",
    "from sklearn import datasets, preprocessing, model_selection, ensemble, pipeline\n",
    "from sklearn.experimental import enable_hist_gradient_boosting\n",
    "from sklearn.ensemble import HistGradientBoostingClassifier\n",
    "import joblib\n",
    "import warnings\n",
    "#Traitement des messages d'erreur :\n",
    "warnings.filterwarnings('ignore')\n",
    "import timeit\n",
    "#Librairie pour gérer l'espace mémoire du PC\n",
    "import gc\n",
    "#Librairie pour créer un dataset de train et un de test\n",
    "from sklearn.model_selection import train_test_split\n",
    "#Librairie pour l'encodage des variables catégorielles\n",
    "from sklearn.preprocessing import LabelEncoder\n",
    "#Librairies pour réaliser un pipeline\n",
    "from sklearn.compose import ColumnTransformer\n",
    "from sklearn.pipeline import Pipeline\n",
    "from sklearn.impute import SimpleImputer\n",
    "from sklearn.preprocessing import RobustScaler, OneHotEncoder\n",
    "# Importation du package pour le SMOTE\n",
    "from imblearn.over_sampling import SMOTE\n",
    "from sklearn.pipeline import make_pipeline\n",
    "import math\n",
    "#Librairie pour XGBoostClassifier\n",
    "from xgboost import XGBClassifier\n",
    "#Librairie pour les métriques avec GridSearch\n",
    "import sklearn.metrics\n",
    "from sklearn.model_selection import GridSearchCV"
   ]
  },
  {
   "cell_type": "code",
   "execution_count": 169,
   "id": "ddcb8a0c",
   "metadata": {},
   "outputs": [],
   "source": [
    "#from pycaret.classification import load_model, predict_model"
   ]
  },
  {
   "cell_type": "markdown",
   "id": "7f93430f",
   "metadata": {},
   "source": [
    "### Fonction utilisées dans le notebook"
   ]
  },
  {
   "cell_type": "code",
   "execution_count": null,
   "id": "1f8df32e",
   "metadata": {},
   "outputs": [],
   "source": []
  },
  {
   "cell_type": "markdown",
   "id": "848ef785",
   "metadata": {},
   "source": [
    "### Lecture des datasets"
   ]
  },
  {
   "cell_type": "code",
   "execution_count": 170,
   "id": "567ce6ab",
   "metadata": {},
   "outputs": [],
   "source": [
    "path = 'Projet_7/'\n",
    "data_work = pd.read_csv(path + \"data_work.csv\")\n",
    "data_target = pd.read_csv(path + \"data_target.csv\")\n",
    "#X_train_res = pd.read_csv(path + \"X_train_res.csv\")\n",
    "#_train_res = pd.read_csv(path + \"y_train_res.csv\")"
   ]
  },
  {
   "cell_type": "code",
   "execution_count": 171,
   "id": "25c9dab3",
   "metadata": {},
   "outputs": [
    {
     "data": {
      "text/html": [
       "<div>\n",
       "<style scoped>\n",
       "    .dataframe tbody tr th:only-of-type {\n",
       "        vertical-align: middle;\n",
       "    }\n",
       "\n",
       "    .dataframe tbody tr th {\n",
       "        vertical-align: top;\n",
       "    }\n",
       "\n",
       "    .dataframe thead th {\n",
       "        text-align: right;\n",
       "    }\n",
       "</style>\n",
       "<table border=\"1\" class=\"dataframe\">\n",
       "  <thead>\n",
       "    <tr style=\"text-align: right;\">\n",
       "      <th></th>\n",
       "      <th>Type_de_pret</th>\n",
       "      <th>Age</th>\n",
       "      <th>Regime_matrimonial</th>\n",
       "      <th>Nombre_d_enfants</th>\n",
       "      <th>Montant_des_revenus</th>\n",
       "      <th>Montant_des_credits</th>\n",
       "      <th>Note_region_client</th>\n",
       "      <th>Nombre_de_demande_client</th>\n",
       "      <th>Delai_anticipation_pret</th>\n",
       "      <th>Montant_anticipation_pret</th>\n",
       "    </tr>\n",
       "  </thead>\n",
       "  <tbody>\n",
       "    <tr>\n",
       "      <th>0</th>\n",
       "      <td>Prêts de trésorerie</td>\n",
       "      <td>26</td>\n",
       "      <td>célibataire</td>\n",
       "      <td>0</td>\n",
       "      <td>202500</td>\n",
       "      <td>108131.945625</td>\n",
       "      <td>2</td>\n",
       "      <td>1.0</td>\n",
       "      <td>-20.421053</td>\n",
       "      <td>0.0</td>\n",
       "    </tr>\n",
       "    <tr>\n",
       "      <th>1</th>\n",
       "      <td>Prêts de trésorerie</td>\n",
       "      <td>46</td>\n",
       "      <td>marié(e)</td>\n",
       "      <td>0</td>\n",
       "      <td>270000</td>\n",
       "      <td>254350.125000</td>\n",
       "      <td>1</td>\n",
       "      <td>0.0</td>\n",
       "      <td>-7.000000</td>\n",
       "      <td>0.0</td>\n",
       "    </tr>\n",
       "    <tr>\n",
       "      <th>2</th>\n",
       "      <td>Prêts renouvelables</td>\n",
       "      <td>52</td>\n",
       "      <td>célibataire</td>\n",
       "      <td>0</td>\n",
       "      <td>67500</td>\n",
       "      <td>94518.900000</td>\n",
       "      <td>2</td>\n",
       "      <td>0.0</td>\n",
       "      <td>-3.000000</td>\n",
       "      <td>0.0</td>\n",
       "    </tr>\n",
       "    <tr>\n",
       "      <th>3</th>\n",
       "      <td>Prêts de trésorerie</td>\n",
       "      <td>52</td>\n",
       "      <td>marié(e)</td>\n",
       "      <td>0</td>\n",
       "      <td>135000</td>\n",
       "      <td>NaN</td>\n",
       "      <td>2</td>\n",
       "      <td>NaN</td>\n",
       "      <td>-19.375000</td>\n",
       "      <td>0.0</td>\n",
       "    </tr>\n",
       "    <tr>\n",
       "      <th>4</th>\n",
       "      <td>Prêts de trésorerie</td>\n",
       "      <td>55</td>\n",
       "      <td>célibataire</td>\n",
       "      <td>0</td>\n",
       "      <td>121500</td>\n",
       "      <td>146250.000000</td>\n",
       "      <td>2</td>\n",
       "      <td>0.0</td>\n",
       "      <td>-6.320000</td>\n",
       "      <td>0.0</td>\n",
       "    </tr>\n",
       "  </tbody>\n",
       "</table>\n",
       "</div>"
      ],
      "text/plain": [
       "          Type_de_pret  Age Regime_matrimonial  Nombre_d_enfants  \\\n",
       "0  Prêts de trésorerie   26        célibataire                 0   \n",
       "1  Prêts de trésorerie   46           marié(e)                 0   \n",
       "2  Prêts renouvelables   52        célibataire                 0   \n",
       "3  Prêts de trésorerie   52           marié(e)                 0   \n",
       "4  Prêts de trésorerie   55        célibataire                 0   \n",
       "\n",
       "   Montant_des_revenus  Montant_des_credits  Note_region_client  \\\n",
       "0               202500        108131.945625                   2   \n",
       "1               270000        254350.125000                   1   \n",
       "2                67500         94518.900000                   2   \n",
       "3               135000                  NaN                   2   \n",
       "4               121500        146250.000000                   2   \n",
       "\n",
       "   Nombre_de_demande_client  Delai_anticipation_pret  \\\n",
       "0                       1.0               -20.421053   \n",
       "1                       0.0                -7.000000   \n",
       "2                       0.0                -3.000000   \n",
       "3                       NaN               -19.375000   \n",
       "4                       0.0                -6.320000   \n",
       "\n",
       "   Montant_anticipation_pret  \n",
       "0                        0.0  \n",
       "1                        0.0  \n",
       "2                        0.0  \n",
       "3                        0.0  \n",
       "4                        0.0  "
      ]
     },
     "metadata": {},
     "output_type": "display_data"
    }
   ],
   "source": [
    "display(data_work.head())\n",
    "data_test = data_work.head()"
   ]
  },
  {
   "cell_type": "markdown",
   "id": "9433e77b",
   "metadata": {},
   "source": [
    "### Lecture du modèle"
   ]
  },
  {
   "cell_type": "code",
   "execution_count": 172,
   "id": "131b0dea",
   "metadata": {},
   "outputs": [
    {
     "name": "stdout",
     "output_type": "stream",
     "text": [
      "XGBClassifier(base_score=0.5, booster='gbtree', callbacks=None,\n",
      "              colsample_bylevel=1, colsample_bynode=1, colsample_bytree=0.386,\n",
      "              early_stopping_rounds=None, enable_categorical=False,\n",
      "              eval_metric=None, feature_types=None, gamma=0.289, gpu_id=-1,\n",
      "              grow_policy='depthwise', importance_type=None,\n",
      "              interaction_constraints='', learning_rate=0.300000012,\n",
      "              max_bin=256, max_cat_threshold=64, max_cat_to_onehot=4,\n",
      "              max_delta_step=0, max_depth=7, max_leaves=0, min_child_weight=1,\n",
      "              missing=nan, monotone_constraints='()', n_estimators=100,\n",
      "              n_jobs=0, num_parallel_tree=1, predictor='auto', random_state=0, ...)\n"
     ]
    }
   ],
   "source": [
    "#Importation du modèle\n",
    "fichierSauvegarde = open(\"donnees\",\"rb\")\n",
    "xgb_mod = pickle.load(fichierSauvegarde)\n",
    "print(xgb_model)"
   ]
  },
  {
   "cell_type": "markdown",
   "id": "004bfce1",
   "metadata": {},
   "source": [
    "### Séparation des données"
   ]
  },
  {
   "cell_type": "code",
   "execution_count": 173,
   "id": "81687e5f",
   "metadata": {},
   "outputs": [],
   "source": [
    "#On commence par diviser le dataset en un dataset de train et un dataset de test avec une proportion de 80% / 20%\n",
    "X_train, X_test, y_train, y_test = train_test_split(data_work, data_target, test_size = 0.2)\n",
    "del data_target"
   ]
  },
  {
   "cell_type": "code",
   "execution_count": 174,
   "id": "fedc406b",
   "metadata": {},
   "outputs": [
    {
     "data": {
      "text/plain": [
       "((246008, 10), (61503, 10))"
      ]
     },
     "execution_count": 174,
     "metadata": {},
     "output_type": "execute_result"
    }
   ],
   "source": [
    "X_train.shape, X_test.shape"
   ]
  },
  {
   "cell_type": "markdown",
   "id": "a90b4259",
   "metadata": {},
   "source": [
    "### Pré-traitement des données"
   ]
  },
  {
   "cell_type": "code",
   "execution_count": 175,
   "id": "90ad29b6",
   "metadata": {},
   "outputs": [
    {
     "name": "stdout",
     "output_type": "stream",
     "text": [
      "Voici la liste des colonnes catégorielles : \n",
      " ['Type_de_pret', 'Regime_matrimonial']\n",
      "Voici la liste des colonnes numériques : \n",
      " ['Age', 'Nombre_d_enfants', 'Montant_des_revenus', 'Montant_des_credits', 'Note_region_client', 'Nombre_de_demande_client', 'Delai_anticipation_pret', 'Montant_anticipation_pret']\n"
     ]
    },
    {
     "data": {
      "text/plain": [
       "2237"
      ]
     },
     "execution_count": 175,
     "metadata": {},
     "output_type": "execute_result"
    }
   ],
   "source": [
    "#On remet la variable concernant une période sous un format positif\n",
    "X_test['Delai_anticipation_pret'] = X_test['Delai_anticipation_pret'].mul(-1)\n",
    "#On remet la variable concernant une période sous un format positif\n",
    "X_train['Delai_anticipation_pret'] = X_train['Delai_anticipation_pret'].mul(-1)\n",
    "\n",
    "#Création d'une variable avec la liste des colonnes catégorielles du dataset features\n",
    "data_categ = list(data_work.select_dtypes(exclude=[\"number\"]).columns)\n",
    "#Création d'une variable avec la liste des colonnes numériques du dataset features\n",
    "data_num = list(data_work.select_dtypes(exclude=[\"bool_\",\"object_\"]).columns)\n",
    "print(\"Voici la liste des colonnes catégorielles : \\n\", data_categ)\n",
    "print(\"Voici la liste des colonnes numériques : \\n\", data_num)\n",
    "del data_work\n",
    "#Permet d'initialiser la librairie gc\n",
    "gc.enable()\n",
    "#Permet de supprimer les objets qui ne sont plus utilisés\n",
    "gc.collect()"
   ]
  },
  {
   "cell_type": "code",
   "execution_count": 176,
   "id": "d58f1237",
   "metadata": {},
   "outputs": [
    {
     "data": {
      "text/html": [
       "<div>\n",
       "<style scoped>\n",
       "    .dataframe tbody tr th:only-of-type {\n",
       "        vertical-align: middle;\n",
       "    }\n",
       "\n",
       "    .dataframe tbody tr th {\n",
       "        vertical-align: top;\n",
       "    }\n",
       "\n",
       "    .dataframe thead th {\n",
       "        text-align: right;\n",
       "    }\n",
       "</style>\n",
       "<table border=\"1\" class=\"dataframe\">\n",
       "  <thead>\n",
       "    <tr style=\"text-align: right;\">\n",
       "      <th></th>\n",
       "      <th>Type_de_pret</th>\n",
       "      <th>Age</th>\n",
       "      <th>Regime_matrimonial</th>\n",
       "      <th>Nombre_d_enfants</th>\n",
       "      <th>Montant_des_revenus</th>\n",
       "      <th>Montant_des_credits</th>\n",
       "      <th>Note_region_client</th>\n",
       "      <th>Nombre_de_demande_client</th>\n",
       "      <th>Delai_anticipation_pret</th>\n",
       "      <th>Montant_anticipation_pret</th>\n",
       "    </tr>\n",
       "  </thead>\n",
       "  <tbody>\n",
       "    <tr>\n",
       "      <th>109471</th>\n",
       "      <td>0</td>\n",
       "      <td>39</td>\n",
       "      <td>2</td>\n",
       "      <td>0</td>\n",
       "      <td>207000</td>\n",
       "      <td>NaN</td>\n",
       "      <td>2</td>\n",
       "      <td>NaN</td>\n",
       "      <td>3.094340</td>\n",
       "      <td>0.000000</td>\n",
       "    </tr>\n",
       "    <tr>\n",
       "      <th>262249</th>\n",
       "      <td>0</td>\n",
       "      <td>34</td>\n",
       "      <td>2</td>\n",
       "      <td>1</td>\n",
       "      <td>189000</td>\n",
       "      <td>2.480150e+05</td>\n",
       "      <td>2</td>\n",
       "      <td>1.0</td>\n",
       "      <td>9.928571</td>\n",
       "      <td>-1856.931429</td>\n",
       "    </tr>\n",
       "    <tr>\n",
       "      <th>20594</th>\n",
       "      <td>0</td>\n",
       "      <td>40</td>\n",
       "      <td>1</td>\n",
       "      <td>0</td>\n",
       "      <td>112500</td>\n",
       "      <td>3.163950e+04</td>\n",
       "      <td>1</td>\n",
       "      <td>1.0</td>\n",
       "      <td>8.142857</td>\n",
       "      <td>-1423.414286</td>\n",
       "    </tr>\n",
       "    <tr>\n",
       "      <th>205458</th>\n",
       "      <td>0</td>\n",
       "      <td>51</td>\n",
       "      <td>2</td>\n",
       "      <td>0</td>\n",
       "      <td>270000</td>\n",
       "      <td>4.547464e+05</td>\n",
       "      <td>2</td>\n",
       "      <td>3.0</td>\n",
       "      <td>2.041667</td>\n",
       "      <td>-1721.274375</td>\n",
       "    </tr>\n",
       "    <tr>\n",
       "      <th>642</th>\n",
       "      <td>0</td>\n",
       "      <td>39</td>\n",
       "      <td>2</td>\n",
       "      <td>0</td>\n",
       "      <td>157500</td>\n",
       "      <td>1.946871e+06</td>\n",
       "      <td>2</td>\n",
       "      <td>0.0</td>\n",
       "      <td>NaN</td>\n",
       "      <td>NaN</td>\n",
       "    </tr>\n",
       "    <tr>\n",
       "      <th>...</th>\n",
       "      <td>...</td>\n",
       "      <td>...</td>\n",
       "      <td>...</td>\n",
       "      <td>...</td>\n",
       "      <td>...</td>\n",
       "      <td>...</td>\n",
       "      <td>...</td>\n",
       "      <td>...</td>\n",
       "      <td>...</td>\n",
       "      <td>...</td>\n",
       "    </tr>\n",
       "    <tr>\n",
       "      <th>138765</th>\n",
       "      <td>0</td>\n",
       "      <td>27</td>\n",
       "      <td>2</td>\n",
       "      <td>0</td>\n",
       "      <td>135000</td>\n",
       "      <td>2.250000e+03</td>\n",
       "      <td>3</td>\n",
       "      <td>2.0</td>\n",
       "      <td>NaN</td>\n",
       "      <td>NaN</td>\n",
       "    </tr>\n",
       "    <tr>\n",
       "      <th>280429</th>\n",
       "      <td>0</td>\n",
       "      <td>62</td>\n",
       "      <td>2</td>\n",
       "      <td>0</td>\n",
       "      <td>202500</td>\n",
       "      <td>0.000000e+00</td>\n",
       "      <td>2</td>\n",
       "      <td>0.0</td>\n",
       "      <td>9.250000</td>\n",
       "      <td>0.000000</td>\n",
       "    </tr>\n",
       "    <tr>\n",
       "      <th>88254</th>\n",
       "      <td>0</td>\n",
       "      <td>58</td>\n",
       "      <td>2</td>\n",
       "      <td>0</td>\n",
       "      <td>135000</td>\n",
       "      <td>1.680000e+05</td>\n",
       "      <td>2</td>\n",
       "      <td>3.0</td>\n",
       "      <td>4.981132</td>\n",
       "      <td>-974.465660</td>\n",
       "    </tr>\n",
       "    <tr>\n",
       "      <th>114237</th>\n",
       "      <td>0</td>\n",
       "      <td>42</td>\n",
       "      <td>2</td>\n",
       "      <td>0</td>\n",
       "      <td>270000</td>\n",
       "      <td>5.077530e+05</td>\n",
       "      <td>2</td>\n",
       "      <td>0.0</td>\n",
       "      <td>15.875000</td>\n",
       "      <td>-674.105625</td>\n",
       "    </tr>\n",
       "    <tr>\n",
       "      <th>104465</th>\n",
       "      <td>1</td>\n",
       "      <td>50</td>\n",
       "      <td>2</td>\n",
       "      <td>1</td>\n",
       "      <td>270000</td>\n",
       "      <td>6.399825e+05</td>\n",
       "      <td>2</td>\n",
       "      <td>2.0</td>\n",
       "      <td>NaN</td>\n",
       "      <td>NaN</td>\n",
       "    </tr>\n",
       "  </tbody>\n",
       "</table>\n",
       "<p>246008 rows × 10 columns</p>\n",
       "</div>"
      ],
      "text/plain": [
       "        Type_de_pret  Age  Regime_matrimonial  Nombre_d_enfants  \\\n",
       "109471             0   39                   2                 0   \n",
       "262249             0   34                   2                 1   \n",
       "20594              0   40                   1                 0   \n",
       "205458             0   51                   2                 0   \n",
       "642                0   39                   2                 0   \n",
       "...              ...  ...                 ...               ...   \n",
       "138765             0   27                   2                 0   \n",
       "280429             0   62                   2                 0   \n",
       "88254              0   58                   2                 0   \n",
       "114237             0   42                   2                 0   \n",
       "104465             1   50                   2                 1   \n",
       "\n",
       "        Montant_des_revenus  Montant_des_credits  Note_region_client  \\\n",
       "109471               207000                  NaN                   2   \n",
       "262249               189000         2.480150e+05                   2   \n",
       "20594                112500         3.163950e+04                   1   \n",
       "205458               270000         4.547464e+05                   2   \n",
       "642                  157500         1.946871e+06                   2   \n",
       "...                     ...                  ...                 ...   \n",
       "138765               135000         2.250000e+03                   3   \n",
       "280429               202500         0.000000e+00                   2   \n",
       "88254                135000         1.680000e+05                   2   \n",
       "114237               270000         5.077530e+05                   2   \n",
       "104465               270000         6.399825e+05                   2   \n",
       "\n",
       "        Nombre_de_demande_client  Delai_anticipation_pret  \\\n",
       "109471                       NaN                 3.094340   \n",
       "262249                       1.0                 9.928571   \n",
       "20594                        1.0                 8.142857   \n",
       "205458                       3.0                 2.041667   \n",
       "642                          0.0                      NaN   \n",
       "...                          ...                      ...   \n",
       "138765                       2.0                      NaN   \n",
       "280429                       0.0                 9.250000   \n",
       "88254                        3.0                 4.981132   \n",
       "114237                       0.0                15.875000   \n",
       "104465                       2.0                      NaN   \n",
       "\n",
       "        Montant_anticipation_pret  \n",
       "109471                   0.000000  \n",
       "262249               -1856.931429  \n",
       "20594                -1423.414286  \n",
       "205458               -1721.274375  \n",
       "642                           NaN  \n",
       "...                           ...  \n",
       "138765                        NaN  \n",
       "280429                   0.000000  \n",
       "88254                 -974.465660  \n",
       "114237                -674.105625  \n",
       "104465                        NaN  \n",
       "\n",
       "[246008 rows x 10 columns]"
      ]
     },
     "metadata": {},
     "output_type": "display_data"
    }
   ],
   "source": [
    "#On va maintenant encoder les variables catégorielles\n",
    "encoder = LabelEncoder()\n",
    "\n",
    "for col in data_categ:\n",
    "    X_train[col] = encoder.fit_transform(X_train[col])\n",
    "    X_test[col] = encoder.fit_transform(X_test[col])\n",
    "display(X_train)"
   ]
  },
  {
   "cell_type": "code",
   "execution_count": 177,
   "id": "1325d6c3",
   "metadata": {},
   "outputs": [
    {
     "data": {
      "text/plain": [
       "Type_de_pret                      0.000\n",
       "Age                              52.000\n",
       "Regime_matrimonial                2.000\n",
       "Nombre_d_enfants                  0.000\n",
       "Montant_des_revenus          135000.000\n",
       "Montant_des_credits                 NaN\n",
       "Note_region_client                2.000\n",
       "Nombre_de_demande_client            NaN\n",
       "Delai_anticipation_pret          19.375\n",
       "Montant_anticipation_pret         0.000\n",
       "Name: 3, dtype: float64"
      ]
     },
     "metadata": {},
     "output_type": "display_data"
    },
    {
     "name": "stdout",
     "output_type": "stream",
     "text": [
      "[2 1 0]\n"
     ]
    }
   ],
   "source": [
    "display(X_train.loc[3])\n",
    "print(X_train['Regime_matrimonial'].unique())"
   ]
  },
  {
   "cell_type": "code",
   "execution_count": 178,
   "id": "93b864f0",
   "metadata": {},
   "outputs": [],
   "source": [
    "scaler = preprocessing.RobustScaler()\n",
    "X_train_scaled = scaler.fit_transform(X_train)\n",
    "X_test_scaled = scaler.transform(X_test)"
   ]
  },
  {
   "cell_type": "markdown",
   "id": "65367d4b",
   "metadata": {},
   "source": [
    "### Recherche des hyperparamètres"
   ]
  },
  {
   "cell_type": "code",
   "execution_count": 179,
   "id": "15fdad58",
   "metadata": {},
   "outputs": [
    {
     "data": {
      "text/plain": [
       "GridSearchCV(cv=5,\n",
       "             estimator=XGBClassifier(base_score=None, booster=None,\n",
       "                                     callbacks=None, colsample_bylevel=None,\n",
       "                                     colsample_bynode=None,\n",
       "                                     colsample_bytree=None,\n",
       "                                     early_stopping_rounds=None,\n",
       "                                     enable_categorical=False, eval_metric=None,\n",
       "                                     feature_types=None, gamma=None,\n",
       "                                     gpu_id=None, grow_policy=None,\n",
       "                                     importance_type=None,\n",
       "                                     interaction_constraints=None,\n",
       "                                     learning_rate=None, max_bin=None,\n",
       "                                     max_cat_threshold=None,\n",
       "                                     max_cat_to_onehot=None,\n",
       "                                     max_delta_step=None, max_depth=None,\n",
       "                                     max_leaves=None, min_child_weight=None,\n",
       "                                     missing=nan, monotone_constraints=None,\n",
       "                                     n_estimators=100, n_jobs=None,\n",
       "                                     num_parallel_tree=None, predictor=None,\n",
       "                                     random_state=None, ...),\n",
       "             param_grid={'max_depth': [5]}, scoring='accuracy')"
      ]
     },
     "execution_count": 179,
     "metadata": {},
     "output_type": "execute_result"
    }
   ],
   "source": [
    "#XGBOOST\n",
    "\n",
    "xgb = XGBClassifier()\n",
    "\n",
    "#xgb_parameters = {'colsample_bytree': [0.1, 0.5, 1], 'gamma': [0.1, 0.2, 0.3, 0.4, 0.5],\n",
    "#                  'max_depth': [1, 3, 5, 7, 10]}\n",
    "#xgb_parameters = {'colsample_bytree': [0.1, 0.5, 1], 'gamma': [0.3],\n",
    "#                  'max_depth': [5]}\n",
    "#xgb_parameters = {'colsample_bytree': [0.1], 'gamma': [0.1, 0.2, 0.3, 0.4, 0.5],\n",
    "#                  'max_depth': [5]}\n",
    "#xgb_parameters = {'colsample_bytree': [0.1], 'gamma': [0.1],\n",
    "#                  'max_depth': [1, 3, 5, 7, 10]}\n",
    "#xgb_parameters = {'colsample_bytree': [0.1], 'gamma': [0.1], 'max_depth': [5]}\n",
    "xgb_parameters = {'max_depth': [5]}\n",
    "\n",
    "gsv = model_selection.GridSearchCV(xgb, xgb_parameters, cv=5, scoring=\"accuracy\")\n",
    "#gsv = model_selection.GridSearchCV(xgb, xgb_parameters, cv=5, scoring=\"roc_auc\", \"accuracy\"])\n",
    "#gsv = model_selection.GridSearchCV(xgb, xgb_parameters, cv=5)\n",
    "gsv.fit(X_train_scaled, y_train)"
   ]
  },
  {
   "cell_type": "code",
   "execution_count": 180,
   "id": "d964ff6f",
   "metadata": {},
   "outputs": [
    {
     "data": {
      "text/plain": [
       "(0.9190066996220512, {'max_depth': 5})"
      ]
     },
     "execution_count": 180,
     "metadata": {},
     "output_type": "execute_result"
    }
   ],
   "source": [
    "gsv.best_score_, gsv.best_params_"
   ]
  },
  {
   "cell_type": "code",
   "execution_count": null,
   "id": "e6d2d608",
   "metadata": {},
   "outputs": [],
   "source": []
  },
  {
   "cell_type": "code",
   "execution_count": 181,
   "id": "b7a422c2",
   "metadata": {},
   "outputs": [
    {
     "data": {
      "text/plain": [
       "0.9198413085540543"
      ]
     },
     "execution_count": 181,
     "metadata": {},
     "output_type": "execute_result"
    }
   ],
   "source": [
    "gsv.best_estimator_.score(X_test_scaled, y_test)"
   ]
  },
  {
   "cell_type": "markdown",
   "id": "274783d3",
   "metadata": {},
   "source": [
    "### Pipeline de prédiction"
   ]
  },
  {
   "cell_type": "code",
   "execution_count": 182,
   "id": "0f244634",
   "metadata": {},
   "outputs": [],
   "source": [
    "#pipeline = pipeline.Pipeline([('scaler', preprocessing.StandardScaler()), \n",
    "#                              ('classifie', ensemble.HistGradientBoostingClassifier(**gsv.best_params_))])"
   ]
  },
  {
   "cell_type": "code",
   "execution_count": 183,
   "id": "b4dafccb",
   "metadata": {},
   "outputs": [],
   "source": [
    "pipeline = pipeline.Pipeline([('scaler', preprocessing.RobustScaler()),\n",
    "                              ('xgb', ensemble.HistGradientBoostingClassifier(**gsv.best_params_))])"
   ]
  },
  {
   "cell_type": "code",
   "execution_count": 184,
   "id": "1e3b07da",
   "metadata": {},
   "outputs": [
    {
     "data": {
      "text/plain": [
       "Pipeline(steps=[('scaler', RobustScaler()),\n",
       "                ('xgb', HistGradientBoostingClassifier(max_depth=5))])"
      ]
     },
     "execution_count": 184,
     "metadata": {},
     "output_type": "execute_result"
    }
   ],
   "source": [
    "pipeline.fit(X_train, y_train)"
   ]
  },
  {
   "cell_type": "code",
   "execution_count": 185,
   "id": "968a77ec",
   "metadata": {},
   "outputs": [
    {
     "data": {
      "text/plain": [
       "0.9199713835097475"
      ]
     },
     "execution_count": 185,
     "metadata": {},
     "output_type": "execute_result"
    }
   ],
   "source": [
    "pipeline.score(X_test, y_test)"
   ]
  },
  {
   "cell_type": "code",
   "execution_count": 186,
   "id": "0e970f1e",
   "metadata": {},
   "outputs": [
    {
     "data": {
      "text/plain": [
       "['pipeline_housing.joblib']"
      ]
     },
     "execution_count": 186,
     "metadata": {},
     "output_type": "execute_result"
    }
   ],
   "source": [
    "joblib.dump(pipeline, 'pipeline_housing.joblib')"
   ]
  },
  {
   "cell_type": "code",
   "execution_count": null,
   "id": "0e6f5820",
   "metadata": {},
   "outputs": [],
   "source": []
  },
  {
   "cell_type": "code",
   "execution_count": 188,
   "id": "2687344c",
   "metadata": {},
   "outputs": [],
   "source": [
    "\n",
    "with mlflow.start_run():\n",
    "    # load dataset and train model\n",
    "    #iris = load_iris()\n",
    "    #sk_model = tree.DecisionTreeClassifier()\n",
    "    #xgb_model_fin = xgb_model.fit(X_train, y_train)\n",
    "    \n",
    "    #Temp\n",
    "    #xgb_model_fin = xgb(xgb_parameters).fit(X_train, y_train)\n",
    "\n",
    "\n",
    "    # log model params\n",
    "    #mlflow.log_param(\"criterion\", xgb_model.criterion)\n",
    "    #mlflow.log_param(\"splitter\", xgb_model.splitter)\n",
    "    \n",
    "    signature = infer_signature(X_train, y_train)\n",
    "    #signature = infer_signature(X_train, xgb_model_fin.predict(X_train))\n",
    "\n",
    "    # log model\n",
    "    #Temp\n",
    "    #mlflow.sklearn.log_model(xgb_model_fin, \"xgb_model_final\", signature=signature)"
   ]
  },
  {
   "cell_type": "code",
   "execution_count": 189,
   "id": "eeb2ef82",
   "metadata": {},
   "outputs": [
    {
     "name": "stderr",
     "output_type": "stream",
     "text": [
      "2023/05/25 12:42:23 WARNING mlflow.utils.environment: Encountered an unexpected error while inferring pip requirements (model URI: xgb_model_final\\model.pkl, flavor: sklearn), fall back to return ['scikit-learn==1.0.2', 'cloudpickle==2.0.0']. Set logging level to DEBUG to see the full traceback.\n"
     ]
    }
   ],
   "source": [
    "#Sauvegare du modèle sklearn\n",
    "mlflow.sklearn.save_model(xgb_model_fin, 'xgb_model_final', signature=signature)\n",
    "#mlflow.sklearn.save_model(pipeline, 'mlflow_model', signature=signature)"
   ]
  },
  {
   "cell_type": "code",
   "execution_count": null,
   "id": "b65e6a51",
   "metadata": {},
   "outputs": [],
   "source": [
    "#Temp\n",
    "#Export des résultats du modèle DummyClassifier\n",
    "#fichierSauvegarde = open(path + \"xgb_model_fin\",\"wb\")\n",
    "#pickle.dump(xgb_model_fin, fichierSauvegarde)\n",
    "#fichierSauvegarde.close()"
   ]
  },
  {
   "cell_type": "code",
   "execution_count": 190,
   "id": "96aa9c22",
   "metadata": {},
   "outputs": [
    {
     "name": "stdout",
     "output_type": "stream",
     "text": [
      "[39 34 40 51 56 64 53 55 45 59 60 33 36 54 22 50 46 66 48 32 44 47 27 38\n",
      " 52 28 41 31 61 57 42 30 23 62 65 35 29 58 24 43 37 26 69 49 67 63 21 68\n",
      " 25 20 70]\n"
     ]
    }
   ],
   "source": [
    "print(X_train['Age'].unique())"
   ]
  },
  {
   "cell_type": "code",
   "execution_count": null,
   "id": "3c584b42",
   "metadata": {},
   "outputs": [],
   "source": []
  },
  {
   "cell_type": "code",
   "execution_count": null,
   "id": "d1705c2a",
   "metadata": {},
   "outputs": [],
   "source": [
    "#Résultat de base\n",
    "#Temps d'entrainement = 46,6ms; AUC = 0,67; Accuracy = 0,88\n",
    "#XGBoostClassifier : Taux Faux Positifs = 4,66 %; Taux Faux Négatif = 7,05 %"
   ]
  },
  {
   "cell_type": "code",
   "execution_count": null,
   "id": "ec687fe5",
   "metadata": {},
   "outputs": [],
   "source": [
    "#Penser à copier le dossier créer xgb_model_final.... dans P7"
   ]
  },
  {
   "cell_type": "code",
   "execution_count": null,
   "id": "4ccf22d3",
   "metadata": {},
   "outputs": [],
   "source": []
  }
 ],
 "metadata": {
  "kernelspec": {
   "display_name": "Python 3 (ipykernel)",
   "language": "python",
   "name": "python3"
  },
  "language_info": {
   "codemirror_mode": {
    "name": "ipython",
    "version": 3
   },
   "file_extension": ".py",
   "mimetype": "text/x-python",
   "name": "python",
   "nbconvert_exporter": "python",
   "pygments_lexer": "ipython3",
   "version": "3.9.12"
  }
 },
 "nbformat": 4,
 "nbformat_minor": 5
}
